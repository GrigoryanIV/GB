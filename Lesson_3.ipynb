{
 "cells": [
  {
   "cell_type": "code",
   "execution_count": 130,
   "id": "9f5fa88a",
   "metadata": {},
   "outputs": [],
   "source": [
    "import pandas as pd\n",
    "import requests\n",
    "from bs4 import BeautifulSoup as BS\n",
    "from pprint import pprint\n",
    "from lxml import html\n",
    "from time import sleep"
   ]
  },
  {
   "cell_type": "code",
   "execution_count": 135,
   "id": "e299eb7d",
   "metadata": {},
   "outputs": [],
   "source": [
    "PREPARED_DATASET_PATH = './vacansy.csv'"
   ]
  },
  {
   "cell_type": "code",
   "execution_count": 121,
   "id": "e6cf47db",
   "metadata": {},
   "outputs": [],
   "source": [
    "url = 'https://hh.ru/vacancies/data-analyst'"
   ]
  },
  {
   "cell_type": "code",
   "execution_count": 3,
   "id": "f14fdc05",
   "metadata": {},
   "outputs": [],
   "source": [
    "headers = {'User-Agent' : 'Mozilla/5.0 (Windows NT 10.0; Win64; x64) AppleWebKit/537.36 (KHTML, like Gecko) Chrome/104.0.0.0 Safari/537.36',}"
   ]
  },
  {
   "cell_type": "code",
   "execution_count": 119,
   "id": "695f633d",
   "metadata": {},
   "outputs": [],
   "source": [
    "def razbor_str (stroka_in):\n",
    "    \n",
    "    if len(stroka_in) == 0:\n",
    "        return [None,None,None]\n",
    "    stroka_in = stroka_in.replace(' ', '')\n",
    "    stroka_in = stroka_in.replace('\\u202f', '')\n",
    "    if 'руб.' in stroka_in:\n",
    "        stroka_out = [None,None,'RU']\n",
    "        stroka_in = stroka_in.replace('руб.', '')\n",
    "    elif 'USD' in stroka_in:\n",
    "        stroka_out = [None,None,'USD']\n",
    "        stroka_in = stroka_in.replace('USD', '')\n",
    "    elif 'EUR' in stroka_in:\n",
    "        stroka_out = [None,None,'EUR']\n",
    "        stroka_in = stroka_in.replace('EUR', '')    \n",
    "    if 'от' in stroka_in:        \n",
    "        stroka_out[0] = int(stroka_in[2:])\n",
    "        stroka_out[1] = None\n",
    "        return stroka_out\n",
    "    elif 'до' in stroka_in:\n",
    "        stroka_out[0] = None\n",
    "        stroka_out[1] = int(stroka_in[2:])\n",
    "        return stroka_out\n",
    "        \n",
    "    stroka_kort = stroka_in.split('–')      \n",
    "    stroka_out[0] = int(stroka_kort[0])\n",
    "    stroka_out[1] = int(stroka_kort[1])\n",
    "    return stroka_out"
   ]
  },
  {
   "cell_type": "code",
   "execution_count": 128,
   "id": "c8ccc4fd",
   "metadata": {},
   "outputs": [
    {
     "name": "stdout",
     "output_type": "stream",
     "text": [
      "[{'link': 'https://spb.hh.ru/vacancy/69487131?query=data%20analyst', 'title': 'Data Analyst', 'min': 100000, 'max': 150000, 'val': 'RU', 'source': 'hh.ru'}, {'link': 'https://spb.hh.ru/vacancy/54721740?query=data%20analyst', 'title': 'Младший аналитик данных (Junior data analyst)', 'min': 100000, 'max': None, 'val': 'RU', 'source': 'hh.ru'}, {'link': 'https://spb.hh.ru/vacancy/69175957?query=data%20analyst', 'title': 'Data Scientist', 'min': 200000, 'max': None, 'val': 'RU', 'source': 'hh.ru'}, {'link': 'https://spb.hh.ru/vacancy/69519930?query=data%20analyst', 'title': 'Product Data Analyst', 'min': None, 'max': None, 'val': None, 'source': 'hh.ru'}, {'link': 'https://spb.hh.ru/vacancy/69076712?query=data%20analyst', 'title': 'Аналитик BI', 'min': 100000, 'max': None, 'val': 'RU', 'source': 'hh.ru'}, {'link': 'https://spb.hh.ru/vacancy/69492359?query=data%20analyst', 'title': 'Middle/Senior Data Scientist', 'min': 200000, 'max': 400000, 'val': 'RU', 'source': 'hh.ru'}, {'link': 'https://spb.hh.ru/vacancy/68719930?query=data%20analyst', 'title': 'Data Analyst', 'min': None, 'max': 300000, 'val': 'RU', 'source': 'hh.ru'}, {'link': 'https://spb.hh.ru/vacancy/69533665?query=data%20analyst', 'title': 'Data аналитик /Аналитик BI', 'min': None, 'max': None, 'val': None, 'source': 'hh.ru'}, {'link': 'https://spb.hh.ru/vacancy/55861158?query=data%20analyst', 'title': 'Data analyst (Vietnam)', 'min': None, 'max': None, 'val': None, 'source': 'hh.ru'}, {'link': 'https://spb.hh.ru/vacancy/55312559?query=data%20analyst', 'title': 'Аналитик данных\\\\Data Analyst', 'min': None, 'max': None, 'val': None, 'source': 'hh.ru'}, {'link': 'https://spb.hh.ru/vacancy/68651311?query=data%20analyst', 'title': 'Data Analyst', 'min': None, 'max': None, 'val': None, 'source': 'hh.ru'}, {'link': 'https://spb.hh.ru/vacancy/68898421?query=data%20analyst', 'title': 'Data scientist/Antifraud analyst', 'min': None, 'max': None, 'val': None, 'source': 'hh.ru'}, {'link': 'https://spb.hh.ru/vacancy/69545103?query=data%20analyst', 'title': 'Machine Learning Engineer', 'min': 100000, 'max': 200000, 'val': 'RU', 'source': 'hh.ru'}, {'link': 'https://spb.hh.ru/vacancy/66183172?query=data%20analyst', 'title': 'Middle Data Analyst', 'min': None, 'max': None, 'val': None, 'source': 'hh.ru'}, {'link': 'https://spb.hh.ru/vacancy/69429005?query=data%20analyst', 'title': 'Data аналитик (Аналитик данных)', 'min': None, 'max': None, 'val': None, 'source': 'hh.ru'}, {'link': 'https://spb.hh.ru/vacancy/67788381?query=data%20analyst', 'title': 'Senior Data analyst', 'min': None, 'max': None, 'val': None, 'source': 'hh.ru'}, {'link': 'https://spb.hh.ru/vacancy/69413790?query=data%20analyst', 'title': 'Дата Аналитик', 'min': None, 'max': None, 'val': None, 'source': 'hh.ru'}, {'link': 'https://spb.hh.ru/vacancy/67887449?query=data%20analyst', 'title': 'Data Analyst', 'min': None, 'max': None, 'val': None, 'source': 'hh.ru'}, {'link': 'https://spb.hh.ru/vacancy/55271924?query=data%20analyst', 'title': 'Data Analyst (Neurotech & Sport)', 'min': None, 'max': None, 'val': None, 'source': 'hh.ru'}, {'link': 'https://spb.hh.ru/vacancy/68906610?query=data%20analyst', 'title': 'Data analyst / Дата-аналитик', 'min': None, 'max': None, 'val': None, 'source': 'hh.ru'}, {'link': 'https://spb.hh.ru/vacancy/69574815?query=data%20analyst', 'title': 'Data Engineer', 'min': None, 'max': None, 'val': None, 'source': 'hh.ru'}, {'link': 'https://spb.hh.ru/vacancy/68029414?query=data%20analyst', 'title': 'Lead data analyst/ Дата-партнер [id10840]', 'min': None, 'max': None, 'val': None, 'source': 'hh.ru'}, {'link': 'https://spb.hh.ru/vacancy/68579035?query=data%20analyst', 'title': 'ML engineer', 'min': 250000, 'max': None, 'val': 'RU', 'source': 'hh.ru'}, {'link': 'https://spb.hh.ru/vacancy/68620625?query=data%20analyst', 'title': 'Product Analyst (remote)', 'min': 2000, 'max': 4000, 'val': 'USD', 'source': 'hh.ru'}, {'link': 'https://spb.hh.ru/vacancy/54144860?query=data%20analyst', 'title': 'Data Analyst (Georgia/Europe)', 'min': None, 'max': None, 'val': None, 'source': 'hh.ru'}, {'link': 'https://spb.hh.ru/vacancy/69239568?query=data%20analyst', 'title': 'Product analyst', 'min': None, 'max': None, 'val': None, 'source': 'hh.ru'}, {'link': 'https://spb.hh.ru/vacancy/69266597?query=data%20analyst', 'title': 'Data Analyst', 'min': None, 'max': None, 'val': None, 'source': 'hh.ru'}, {'link': 'https://spb.hh.ru/vacancy/68504415?query=data%20analyst', 'title': 'Senior Data Analyst (Game)', 'min': None, 'max': None, 'val': None, 'source': 'hh.ru'}, {'link': 'https://spb.hh.ru/vacancy/68232438?query=data%20analyst', 'title': 'Data analyst (Системный аналитик)', 'min': None, 'max': None, 'val': None, 'source': 'hh.ru'}, {'link': 'https://spb.hh.ru/vacancy/66773226?query=data%20analyst', 'title': 'Marketing Analyst', 'min': None, 'max': None, 'val': None, 'source': 'hh.ru'}, {'link': 'https://spb.hh.ru/vacancy/68389230?query=data%20analyst', 'title': 'Analyst (QOS)', 'min': 90000, 'max': None, 'val': 'RU', 'source': 'hh.ru'}, {'link': 'https://spb.hh.ru/vacancy/69039483?query=data%20analyst', 'title': 'Junior data analyst', 'min': 91954, 'max': 91954, 'val': 'RU', 'source': 'hh.ru'}, {'link': 'https://spb.hh.ru/vacancy/69268818?query=data%20analyst', 'title': 'BI Analyst/Data Analyst', 'min': None, 'max': None, 'val': None, 'source': 'hh.ru'}, {'link': 'https://spb.hh.ru/vacancy/69342558?query=data%20analyst', 'title': 'Senior Product Analyst (Gamedev)', 'min': None, 'max': None, 'val': None, 'source': 'hh.ru'}, {'link': 'https://spb.hh.ru/vacancy/69265930?query=data%20analyst', 'title': 'Data analyst at Aston', 'min': None, 'max': None, 'val': None, 'source': 'hh.ru'}, {'link': 'https://spb.hh.ru/vacancy/66098655?query=data%20analyst', 'title': 'Старший аналитик', 'min': None, 'max': None, 'val': None, 'source': 'hh.ru'}, {'link': 'https://spb.hh.ru/vacancy/69275713?query=data%20analyst', 'title': 'Бизнес-аналитик (Data privacy)', 'min': None, 'max': None, 'val': None, 'source': 'hh.ru'}, {'link': 'https://spb.hh.ru/vacancy/69044303?query=data%20analyst', 'title': 'Системный аналитик (Data-сервисы)', 'min': None, 'max': None, 'val': None, 'source': 'hh.ru'}, {'link': 'https://spb.hh.ru/vacancy/69100086?query=data%20analyst', 'title': 'Junior Business Intelligence Analyst', 'min': 1000, 'max': 2000, 'val': 'USD', 'source': 'hh.ru'}, {'link': 'https://spb.hh.ru/vacancy/69142001?query=data%20analyst', 'title': 'Data Analyst', 'min': None, 'max': None, 'val': None, 'source': 'hh.ru'}, {'link': 'https://spb.hh.ru/vacancy/69258086?query=data%20analyst', 'title': 'BI developer', 'min': None, 'max': None, 'val': None, 'source': 'hh.ru'}, {'link': 'https://spb.hh.ru/vacancy/68607804?query=data%20analyst', 'title': 'Business Analyst (Cyprus)', 'min': None, 'max': None, 'val': None, 'source': 'hh.ru'}, {'link': 'https://spb.hh.ru/vacancy/69145746?query=data%20analyst', 'title': 'Аналитик-разработчик', 'min': None, 'max': None, 'val': None, 'source': 'hh.ru'}, {'link': 'https://spb.hh.ru/vacancy/69134734?query=data%20analyst', 'title': 'Data Analyst / Product Analyst', 'min': None, 'max': None, 'val': None, 'source': 'hh.ru'}, {'link': 'https://spb.hh.ru/vacancy/67514249?query=data%20analyst', 'title': 'Analyst (Quality of Service Voice Traffic)', 'min': 100000, 'max': None, 'val': 'RU', 'source': 'hh.ru'}, {'link': 'https://spb.hh.ru/vacancy/69031296?query=data%20analyst', 'title': 'NLP Developer, Remote', 'min': 3000, 'max': 7000, 'val': 'USD', 'source': 'hh.ru'}, {'link': 'https://spb.hh.ru/vacancy/69050872?query=data%20analyst', 'title': 'Аналитик данных \\\\ Data Analyst (ценообразование)', 'min': None, 'max': None, 'val': None, 'source': 'hh.ru'}, {'link': 'https://spb.hh.ru/vacancy/66523898?query=data%20analyst', 'title': 'Middle/Senior Data analyst', 'min': None, 'max': None, 'val': None, 'source': 'hh.ru'}, {'link': 'https://spb.hh.ru/vacancy/68295551?query=data%20analyst', 'title': 'Middle+/Senior Product Analyst B2C (удаленно)', 'min': None, 'max': None, 'val': None, 'source': 'hh.ru'}, {'link': 'https://spb.hh.ru/vacancy/69176070?query=data%20analyst', 'title': 'Junior Analyst в Travel Tech', 'min': None, 'max': None, 'val': None, 'source': 'hh.ru'}, {'link': 'https://spb.hh.ru/vacancy/68853787?query=data%20analyst', 'title': 'Data Analyst', 'min': None, 'max': None, 'val': None, 'source': 'hh.ru'}, {'link': 'https://spb.hh.ru/vacancy/69124147?query=data%20analyst', 'title': 'Data Analyst', 'min': None, 'max': None, 'val': None, 'source': 'hh.ru'}, {'link': 'https://spb.hh.ru/vacancy/67162072?query=data%20analyst', 'title': 'Secondary Markets Analyst', 'min': None, 'max': None, 'val': None, 'source': 'hh.ru'}, {'link': 'https://spb.hh.ru/vacancy/68719164?query=data%20analyst', 'title': 'Product\\xa0Analyst (Python, Tableau, SQL, Airflow) (to Cyprus)', 'min': None, 'max': None, 'val': None, 'source': 'hh.ru'}, {'link': 'https://spb.hh.ru/vacancy/68893409?query=data%20analyst', 'title': 'Data Analyst ( Data Scientist )', 'min': None, 'max': None, 'val': None, 'source': 'hh.ru'}, {'link': 'https://spb.hh.ru/vacancy/68915402?query=data%20analyst', 'title': 'Product Mobile Analyst', 'min': 100000, 'max': 250000, 'val': 'RU', 'source': 'hh.ru'}, {'link': 'https://spb.hh.ru/vacancy/68843749?query=data%20analyst', 'title': 'Senior Product Analyst', 'min': None, 'max': None, 'val': None, 'source': 'hh.ru'}, {'link': 'https://spb.hh.ru/vacancy/68824042?query=data%20analyst', 'title': 'Data governance specialist/Аналитик по управлению метаданными', 'min': None, 'max': None, 'val': None, 'source': 'hh.ru'}, {'link': 'https://spb.hh.ru/vacancy/68657677?query=data%20analyst', 'title': 'Marketing Analyst', 'min': None, 'max': None, 'val': None, 'source': 'hh.ru'}, {'link': 'https://spb.hh.ru/vacancy/68796541?query=data%20analyst', 'title': 'Специалист по таргетинговой рекламе', 'min': None, 'max': None, 'val': None, 'source': 'hh.ru'}, {'link': 'https://spb.hh.ru/vacancy/69466024?query=data%20analyst', 'title': 'Веб-аналитик', 'min': 60000, 'max': 80000, 'val': 'RU', 'source': 'hh.ru'}, {'link': 'https://spb.hh.ru/vacancy/69383362?query=data%20analyst', 'title': 'Старший Media Buyer', 'min': None, 'max': None, 'val': None, 'source': 'hh.ru'}, {'link': 'https://spb.hh.ru/vacancy/69272491?query=data%20analyst', 'title': 'Product Owner', 'min': None, 'max': None, 'val': None, 'source': 'hh.ru'}, {'link': 'https://spb.hh.ru/vacancy/68238787?query=data%20analyst', 'title': 'Продуктовый дизайнер / Product Designer (Mobile app)', 'min': None, 'max': None, 'val': None, 'source': 'hh.ru'}, {'link': 'https://spb.hh.ru/vacancy/69404269?query=data%20analyst', 'title': 'Data Analyst (Marketing)', 'min': None, 'max': None, 'val': None, 'source': 'hh.ru'}, {'link': 'https://spb.hh.ru/vacancy/69294991?query=data%20analyst', 'title': 'Младший аналитик (Junior +)', 'min': 80000, 'max': 100000, 'val': 'RU', 'source': 'hh.ru'}, {'link': 'https://spb.hh.ru/vacancy/69036016?query=data%20analyst', 'title': 'Аналитик данных', 'min': 60000, 'max': None, 'val': 'RU', 'source': 'hh.ru'}, {'link': 'https://spb.hh.ru/vacancy/69413278?query=data%20analyst', 'title': 'Аналитик данных / Data analyst', 'min': None, 'max': None, 'val': None, 'source': 'hh.ru'}, {'link': 'https://spb.hh.ru/vacancy/67905370?query=data%20analyst', 'title': 'Аналитик', 'min': None, 'max': 150000, 'val': 'RU', 'source': 'hh.ru'}, {'link': 'https://spb.hh.ru/vacancy/68218897?query=data%20analyst', 'title': 'Data Scientist, Эффективность рекламы', 'min': None, 'max': None, 'val': None, 'source': 'hh.ru'}, {'link': 'https://spb.hh.ru/vacancy/68821020?query=data%20analyst', 'title': 'Data Engineer/ ML Ops/ Разработчик DWH', 'min': 170000, 'max': None, 'val': 'RU', 'source': 'hh.ru'}, {'link': 'https://spb.hh.ru/vacancy/69255786?query=data%20analyst', 'title': 'Data Engineer', 'min': None, 'max': None, 'val': None, 'source': 'hh.ru'}, {'link': 'https://spb.hh.ru/vacancy/69031296?query=data%20analyst', 'title': 'NLP Developer, Remote', 'min': 3000, 'max': 7000, 'val': 'USD', 'source': 'hh.ru'}, {'link': 'https://spb.hh.ru/vacancy/69540711?query=data%20analyst', 'title': 'Business System Analyst (AFC)', 'min': None, 'max': None, 'val': None, 'source': 'hh.ru'}, {'link': 'https://spb.hh.ru/vacancy/69515184?query=data%20analyst', 'title': 'BI Developer', 'min': None, 'max': None, 'val': None, 'source': 'hh.ru'}, {'link': 'https://spb.hh.ru/vacancy/67337785?query=data%20analyst', 'title': 'Аналитик данных, Ранжирование и аналитика поиска', 'min': None, 'max': None, 'val': None, 'source': 'hh.ru'}, {'link': 'https://spb.hh.ru/vacancy/66853713?query=data%20analyst', 'title': 'Аналитик качества данных [id9864]', 'min': None, 'max': None, 'val': None, 'source': 'hh.ru'}, {'link': 'https://spb.hh.ru/vacancy/69144701?query=data%20analyst', 'title': 'Продуктовый аналитик в команду VK Чекбэка', 'min': None, 'max': None, 'val': None, 'source': 'hh.ru'}, {'link': 'https://spb.hh.ru/vacancy/67471218?query=data%20analyst', 'title': 'Data Engineer (ETL Developer)', 'min': None, 'max': None, 'val': None, 'source': 'hh.ru'}, {'link': 'https://spb.hh.ru/vacancy/68950988?query=data%20analyst', 'title': 'Ведущий бизнес-аналитик', 'min': None, 'max': None, 'val': None, 'source': 'hh.ru'}, {'link': 'https://spb.hh.ru/vacancy/69483351?query=data%20analyst', 'title': 'Продуктовый аналитик', 'min': None, 'max': None, 'val': None, 'source': 'hh.ru'}, {'link': 'https://spb.hh.ru/vacancy/67740744?query=data%20analyst', 'title': 'Системный аналитик DWH', 'min': None, 'max': None, 'val': None, 'source': 'hh.ru'}, {'link': 'https://spb.hh.ru/vacancy/69270365?query=data%20analyst', 'title': 'Data Steward в команду продуктовой аналитики', 'min': None, 'max': None, 'val': None, 'source': 'hh.ru'}, {'link': 'https://spb.hh.ru/vacancy/69567825?query=data%20analyst', 'title': 'Системный аналитик', 'min': None, 'max': None, 'val': None, 'source': 'hh.ru'}, {'link': 'https://spb.hh.ru/vacancy/46213657?query=data%20analyst', 'title': 'Ведущий Data Scientist', 'min': None, 'max': None, 'val': None, 'source': 'hh.ru'}, {'link': 'https://spb.hh.ru/vacancy/68855323?query=data%20analyst', 'title': 'Маркетинговый аналитик', 'min': None, 'max': None, 'val': None, 'source': 'hh.ru'}, {'link': 'https://spb.hh.ru/vacancy/69487206?query=data%20analyst', 'title': 'Data Engineer в VK Видео', 'min': None, 'max': None, 'val': None, 'source': 'hh.ru'}, {'link': 'https://spb.hh.ru/vacancy/69568810?query=data%20analyst', 'title': 'Эксперт-аналитик', 'min': None, 'max': None, 'val': None, 'source': 'hh.ru'}, {'link': 'https://spb.hh.ru/vacancy/68582776?query=data%20analyst', 'title': 'Специалист в отдел маркетинговых исследований и аналитики', 'min': 65000, 'max': None, 'val': 'RU', 'source': 'hh.ru'}, {'link': 'https://spb.hh.ru/vacancy/67227725?query=data%20analyst', 'title': 'Product manager', 'min': None, 'max': None, 'val': None, 'source': 'hh.ru'}, {'link': 'https://spb.hh.ru/vacancy/68852724?query=data%20analyst', 'title': 'Lead Management / Marketing Analytics Lead', 'min': None, 'max': None, 'val': None, 'source': 'hh.ru'}, {'link': 'https://spb.hh.ru/vacancy/67387083?query=data%20analyst', 'title': 'Senior Data Engineer', 'min': None, 'max': None, 'val': None, 'source': 'hh.ru'}, {'link': 'https://spb.hh.ru/vacancy/69205913?query=data%20analyst', 'title': 'Product manager', 'min': None, 'max': None, 'val': None, 'source': 'hh.ru'}, {'link': 'https://spb.hh.ru/vacancy/69490276?query=data%20analyst', 'title': 'Старший аналитик по поддержке Jira/Confluence', 'min': None, 'max': None, 'val': None, 'source': 'hh.ru'}, {'link': 'https://spb.hh.ru/vacancy/67670560?query=data%20analyst', 'title': 'Бизнес-аналитик маркетплейсов', 'min': 80000, 'max': 120000, 'val': 'RU', 'source': 'hh.ru'}, {'link': 'https://spb.hh.ru/vacancy/69575441?query=data%20analyst', 'title': 'Системный аналитик MES', 'min': None, 'max': None, 'val': None, 'source': 'hh.ru'}, {'link': 'https://spb.hh.ru/vacancy/68971422?query=data%20analyst', 'title': 'Lead Data Engineer', 'min': None, 'max': None, 'val': None, 'source': 'hh.ru'}, {'link': 'https://spb.hh.ru/vacancy/69485013?query=data%20analyst', 'title': 'Менеджер по продукту IT / Product Owner', 'min': None, 'max': None, 'val': None, 'source': 'hh.ru'}, {'link': 'https://spb.hh.ru/vacancy/69515409?query=data%20analyst', 'title': 'Machine Learning Engineer', 'min': None, 'max': None, 'val': None, 'source': 'hh.ru'}, {'link': 'https://spb.hh.ru/vacancy/68556524?query=data%20analyst', 'title': 'ETL Developer', 'min': None, 'max': None, 'val': None, 'source': 'hh.ru'}, {'link': 'https://spb.hh.ru/vacancy/69143383?query=data%20analyst', 'title': 'Старший менеджер по маркетингу бизнес-сегмента', 'min': None, 'max': None, 'val': None, 'source': 'hh.ru'}, {'link': 'https://spb.hh.ru/vacancy/69185957?query=data%20analyst', 'title': 'Руководитель направления корпоративной отчетности (МСФО и Управленческая отчетность)', 'min': None, 'max': None, 'val': None, 'source': 'hh.ru'}, {'link': 'https://spb.hh.ru/vacancy/69364372?query=data%20analyst', 'title': 'Руководитель отдела веб-аналитики', 'min': None, 'max': None, 'val': None, 'source': 'hh.ru'}, {'link': 'https://spb.hh.ru/vacancy/68673018?query=data%20analyst', 'title': 'Финансовый бизнес-партнер', 'min': None, 'max': None, 'val': None, 'source': 'hh.ru'}, {'link': 'https://spb.hh.ru/vacancy/68674527?query=data%20analyst', 'title': 'Старший специалист направления корпоративной отчетности', 'min': None, 'max': None, 'val': None, 'source': 'hh.ru'}, {'link': 'https://spb.hh.ru/vacancy/68894858?query=data%20analyst', 'title': 'Руководитель проектов отдела маркетинговых исследований', 'min': 80000, 'max': None, 'val': 'RU', 'source': 'hh.ru'}, {'link': 'https://spb.hh.ru/vacancy/68971242?query=data%20analyst', 'title': 'Разработчик серверных приложений Oracle/PostgreSQL', 'min': None, 'max': None, 'val': None, 'source': 'hh.ru'}, {'link': 'https://spb.hh.ru/vacancy/68739626?query=data%20analyst', 'title': 'Security Operations Center Engineer (Cyprus)', 'min': None, 'max': None, 'val': None, 'source': 'hh.ru'}, {'link': 'https://spb.hh.ru/vacancy/69427872?query=data%20analyst', 'title': 'Руководитель отдела баз данных и отчетности', 'min': None, 'max': None, 'val': None, 'source': 'hh.ru'}, {'link': 'https://spb.hh.ru/vacancy/67800087?query=data%20analyst', 'title': 'Computer vision engineer (проект \"Лента\")', 'min': None, 'max': None, 'val': None, 'source': 'hh.ru'}, {'link': 'https://spb.hh.ru/vacancy/67595177?query=data%20analyst', 'title': 'Senior Data QA Engineer', 'min': None, 'max': None, 'val': None, 'source': 'hh.ru'}, {'link': 'https://spb.hh.ru/vacancy/69258452?query=data%20analyst', 'title': 'Маркетолог в IT-компанию', 'min': 60000, 'max': None, 'val': 'RU', 'source': 'hh.ru'}, {'link': 'https://spb.hh.ru/vacancy/68964875?query=data%20analyst', 'title': 'Product designer (UX/UI дизайнер)', 'min': None, 'max': None, 'val': None, 'source': 'hh.ru'}, {'link': 'https://spb.hh.ru/vacancy/69161452?query=data%20analyst', 'title': 'Специалист по контекстной рекламе', 'min': 60000, 'max': None, 'val': 'RU', 'source': 'hh.ru'}, {'link': 'https://spb.hh.ru/vacancy/68982147?query=data%20analyst', 'title': 'Финансовый менеджер', 'min': 70000, 'max': None, 'val': 'RU', 'source': 'hh.ru'}, {'link': 'https://spb.hh.ru/vacancy/68786923?query=data%20analyst', 'title': 'Специалист по контекстной рекламе / Контекстолог', 'min': 80000, 'max': None, 'val': 'RU', 'source': 'hh.ru'}, {'link': 'https://spb.hh.ru/vacancy/69493026?query=data%20analyst', 'title': 'Интернет-маркетолог (Лидогенерация)', 'min': 80000, 'max': None, 'val': 'RU', 'source': 'hh.ru'}, {'link': 'https://spb.hh.ru/vacancy/69174253?query=data%20analyst', 'title': 'Ведущий маркетолог в IT-компанию', 'min': 90000, 'max': 150000, 'val': 'RU', 'source': 'hh.ru'}, {'link': 'https://spb.hh.ru/vacancy/69075332?query=data%20analyst', 'title': 'Project manager / Менеджер проектов в маркетинг агентство', 'min': None, 'max': None, 'val': None, 'source': 'hh.ru'}, {'link': 'https://spb.hh.ru/vacancy/68343093?query=data%20analyst', 'title': 'Старший продуктовый дизайнер', 'min': None, 'max': None, 'val': None, 'source': 'hh.ru'}, {'link': 'https://spb.hh.ru/vacancy/69504010?query=data%20analyst', 'title': 'Chief Operating Officer', 'min': None, 'max': None, 'val': None, 'source': 'hh.ru'}, {'link': 'https://spb.hh.ru/vacancy/68547535?query=data%20analyst', 'title': 'Senior Android Developer', 'min': None, 'max': 400000, 'val': 'RU', 'source': 'hh.ru'}, {'link': 'https://spb.hh.ru/vacancy/69494387?query=data%20analyst', 'title': 'Junior account manager', 'min': 70000, 'max': None, 'val': 'RU', 'source': 'hh.ru'}, {'link': 'https://spb.hh.ru/vacancy/68114359?query=data%20analyst', 'title': 'Таргетолог/Менеджер по таргетированной рекламе', 'min': None, 'max': None, 'val': None, 'source': 'hh.ru'}, {'link': 'https://spb.hh.ru/vacancy/67590081?query=data%20analyst', 'title': 'Java разработчик Naumen Erudite', 'min': None, 'max': None, 'val': None, 'source': 'hh.ru'}, {'link': 'https://spb.hh.ru/vacancy/69494655?query=data%20analyst', 'title': 'Медиапланер/Трейд-маркетолог', 'min': 70000, 'max': None, 'val': 'RU', 'source': 'hh.ru'}, {'link': 'https://spb.hh.ru/vacancy/69450070?query=data%20analyst', 'title': 'Operations Manager Listings', 'min': 2500, 'max': 4000, 'val': 'USD', 'source': 'hh.ru'}, {'link': 'https://spb.hh.ru/vacancy/69494469?query=data%20analyst', 'title': 'Трейд-маркетолог / Младший аккаунт менеджер', 'min': 70000, 'max': None, 'val': 'RU', 'source': 'hh.ru'}, {'link': 'https://spb.hh.ru/vacancy/69524536?query=data%20analyst', 'title': 'Тимлид ( команда ТРСУД )', 'min': None, 'max': None, 'val': None, 'source': 'hh.ru'}, {'link': 'https://spb.hh.ru/vacancy/69471599?query=data%20analyst', 'title': 'Специалист по прайс-площадкам (удаленно)', 'min': None, 'max': None, 'val': None, 'source': 'hh.ru'}, {'link': 'https://spb.hh.ru/vacancy/68836596?query=data%20analyst', 'title': 'Менеджер продукта в команду сообществ', 'min': None, 'max': None, 'val': None, 'source': 'hh.ru'}, {'link': 'https://spb.hh.ru/vacancy/68568306?query=data%20analyst', 'title': 'Менеджер проектов', 'min': None, 'max': None, 'val': None, 'source': 'hh.ru'}, {'link': 'https://spb.hh.ru/vacancy/68658614?query=data%20analyst', 'title': 'Android developer', 'min': None, 'max': None, 'val': None, 'source': 'hh.ru'}, {'link': 'https://spb.hh.ru/vacancy/69556557?query=data%20analyst', 'title': 'Java Developer', 'min': None, 'max': None, 'val': None, 'source': 'hh.ru'}, {'link': 'https://spb.hh.ru/vacancy/69520187?query=data%20analyst', 'title': 'Senior\\\\Regular Java developer (удаленно)', 'min': None, 'max': None, 'val': None, 'source': 'hh.ru'}, {'link': 'https://spb.hh.ru/vacancy/69410949?query=data%20analyst', 'title': 'Kotlin/Java Developer', 'min': None, 'max': None, 'val': None, 'source': 'hh.ru'}, {'link': 'https://spb.hh.ru/vacancy/67656132?query=data%20analyst', 'title': 'Руководитель отдела маркетинга', 'min': None, 'max': None, 'val': None, 'source': 'hh.ru'}, {'link': 'https://spb.hh.ru/vacancy/68639591?query=data%20analyst', 'title': 'Senior PHP Developer (Data Matrix)', 'min': None, 'max': None, 'val': None, 'source': 'hh.ru'}, {'link': 'https://spb.hh.ru/vacancy/68777164?query=data%20analyst', 'title': 'Методист (педагогический дизайнер)', 'min': 50000, 'max': 90000, 'val': 'RU', 'source': 'hh.ru'}, {'link': 'https://spb.hh.ru/vacancy/69472166?query=data%20analyst', 'title': 'SEO-специалист', 'min': None, 'max': None, 'val': None, 'source': 'hh.ru'}, {'link': 'https://spb.hh.ru/vacancy/67652003?query=data%20analyst', 'title': 'Account Manager', 'min': None, 'max': None, 'val': None, 'source': 'hh.ru'}, {'link': 'https://spb.hh.ru/vacancy/69570062?query=data%20analyst', 'title': 'IOS разработчик', 'min': None, 'max': None, 'val': None, 'source': 'hh.ru'}, {'link': 'https://spb.hh.ru/vacancy/55144214?query=data%20analyst', 'title': 'Senior Java/Kotlin Developer', 'min': None, 'max': None, 'val': None, 'source': 'hh.ru'}, {'link': 'https://spb.hh.ru/vacancy/69492345?query=data%20analyst', 'title': 'Контент-менеджер \\\\ помощник SEO-редактора', 'min': 30000, 'max': 50000, 'val': 'RU', 'source': 'hh.ru'}, {'link': 'https://spb.hh.ru/vacancy/68517458?query=data%20analyst', 'title': 'Разработчик 1С ЗУП', 'min': None, 'max': None, 'val': None, 'source': 'hh.ru'}, {'link': 'https://spb.hh.ru/vacancy/69528790?query=data%20analyst', 'title': 'Руководитель отдела продаж (Digital Sales)', 'min': None, 'max': None, 'val': None, 'source': 'hh.ru'}, {'link': 'https://spb.hh.ru/vacancy/68295551?query=data%20analyst', 'title': 'Middle+/Senior Product Analyst B2C (удаленно)', 'min': None, 'max': None, 'val': None, 'source': 'hh.ru'}, {'link': 'https://spb.hh.ru/vacancy/69427419?query=data%20analyst', 'title': 'Data Engineer', 'min': None, 'max': None, 'val': None, 'source': 'hh.ru'}, {'link': 'https://spb.hh.ru/vacancy/69427750?query=data%20analyst', 'title': 'Senior Data Engineer', 'min': None, 'max': None, 'val': None, 'source': 'hh.ru'}, {'link': 'https://spb.hh.ru/vacancy/69431518?query=data%20analyst', 'title': 'Senior Recruiter / Talent Acquisition Manager', 'min': 100000, 'max': 150000, 'val': 'RU', 'source': 'hh.ru'}, {'link': 'https://spb.hh.ru/vacancy/67869257?query=data%20analyst', 'title': 'English for Software Developers Trainer', 'min': None, 'max': None, 'val': None, 'source': 'hh.ru'}, {'link': 'https://spb.hh.ru/vacancy/66097514?query=data%20analyst', 'title': 'Разработчик Python', 'min': None, 'max': None, 'val': None, 'source': 'hh.ru'}, {'link': 'https://spb.hh.ru/vacancy/68464357?query=data%20analyst', 'title': 'Разработчик продукта ABBYY (FlexiCapture)', 'min': None, 'max': None, 'val': None, 'source': 'hh.ru'}, {'link': 'https://spb.hh.ru/vacancy/69424779?query=data%20analyst', 'title': 'Frontend developer (react)', 'min': None, 'max': None, 'val': None, 'source': 'hh.ru'}, {'link': 'https://spb.hh.ru/vacancy/67666738?query=data%20analyst', 'title': 'Java разработчик в Tinkoff Black', 'min': None, 'max': None, 'val': None, 'source': 'hh.ru'}, {'link': 'https://spb.hh.ru/vacancy/68472856?query=data%20analyst', 'title': 'Маркетолог-аналитик', 'min': None, 'max': None, 'val': None, 'source': 'hh.ru'}, {'link': 'https://spb.hh.ru/vacancy/68414932?query=data%20analyst', 'title': 'Разработчик Hadoop Big Data (стрим Витрины ПИК)', 'min': None, 'max': None, 'val': None, 'source': 'hh.ru'}, {'link': 'https://spb.hh.ru/vacancy/68455218?query=data%20analyst', 'title': 'Разработчик Hadoop Big Data (стрим Витрины ПИК)', 'min': None, 'max': None, 'val': None, 'source': 'hh.ru'}, {'link': 'https://spb.hh.ru/vacancy/68385669?query=data%20analyst', 'title': 'Team Lead DevOps (DataOps Team) - Spain', 'min': None, 'max': None, 'val': None, 'source': 'hh.ru'}, {'link': 'https://spb.hh.ru/vacancy/69349812?query=data%20analyst', 'title': 'Бизнес-аналитик', 'min': None, 'max': None, 'val': None, 'source': 'hh.ru'}, {'link': 'https://spb.hh.ru/vacancy/69336515?query=data%20analyst', 'title': 'Бизнес-аналитик', 'min': None, 'max': None, 'val': None, 'source': 'hh.ru'}, {'link': 'https://spb.hh.ru/vacancy/69346994?query=data%20analyst', 'title': 'Product Owner (Technical background required)', 'min': 4500, 'max': 5500, 'val': 'EUR', 'source': 'hh.ru'}, {'link': 'https://spb.hh.ru/vacancy/66134564?query=data%20analyst', 'title': 'Аналитик по развитию и контролю сервиса', 'min': None, 'max': None, 'val': None, 'source': 'hh.ru'}, {'link': 'https://spb.hh.ru/vacancy/69341435?query=data%20analyst', 'title': 'Администратор базы данных / DBA', 'min': None, 'max': None, 'val': None, 'source': 'hh.ru'}, {'link': 'https://spb.hh.ru/vacancy/69333445?query=data%20analyst', 'title': 'Backend разработчик GO Developer (удаленно)', 'min': 200000, 'max': None, 'val': 'RU', 'source': 'hh.ru'}, {'link': 'https://spb.hh.ru/vacancy/69145746?query=data%20analyst', 'title': 'Аналитик-разработчик', 'min': None, 'max': None, 'val': None, 'source': 'hh.ru'}, {'link': 'https://spb.hh.ru/vacancy/69297374?query=data%20analyst', 'title': 'Системный аналитик DWH', 'min': None, 'max': None, 'val': None, 'source': 'hh.ru'}, {'link': 'https://spb.hh.ru/vacancy/69288137?query=data%20analyst', 'title': 'Аналитик данных (на удаленную работу)', 'min': 15000, 'max': 20000, 'val': 'RU', 'source': 'hh.ru'}, {'link': 'https://spb.hh.ru/vacancy/69313942?query=data%20analyst', 'title': 'Python TeamLead', 'min': None, 'max': None, 'val': None, 'source': 'hh.ru'}, {'link': 'https://spb.hh.ru/vacancy/69298769?query=data%20analyst', 'title': 'Senior Data Engineer', 'min': None, 'max': None, 'val': None, 'source': 'hh.ru'}, {'link': 'https://spb.hh.ru/vacancy/69300728?query=data%20analyst', 'title': 'Research Team Lead', 'min': 100000, 'max': None, 'val': 'RU', 'source': 'hh.ru'}, {'link': 'https://spb.hh.ru/vacancy/69317162?query=data%20analyst', 'title': 'Media buyer/User Acquisition Manager (контекстная и таргетированная реклама приложений+ASO)', 'min': None, 'max': None, 'val': None, 'source': 'hh.ru'}, {'link': 'https://spb.hh.ru/vacancy/69316947?query=data%20analyst', 'title': 'Frontend разработчик (удаленно) Nuxt/VueJS', 'min': 180000, 'max': None, 'val': 'RU', 'source': 'hh.ru'}, {'link': 'https://spb.hh.ru/vacancy/68887525?query=data%20analyst', 'title': 'Data Engineer', 'min': None, 'max': None, 'val': None, 'source': 'hh.ru'}, {'link': 'https://spb.hh.ru/vacancy/52402290?query=data%20analyst', 'title': 'Senior Java Developer (to Serbia)', 'min': None, 'max': None, 'val': None, 'source': 'hh.ru'}, {'link': 'https://spb.hh.ru/vacancy/69260729?query=data%20analyst', 'title': 'Игровой аналитик (продуктовый аналитик)', 'min': None, 'max': None, 'val': None, 'source': 'hh.ru'}, {'link': 'https://spb.hh.ru/vacancy/54612046?query=data%20analyst', 'title': 'Аналитик продуктового направления', 'min': None, 'max': None, 'val': None, 'source': 'hh.ru'}, {'link': 'https://spb.hh.ru/vacancy/69266486?query=data%20analyst', 'title': 'Finance Systems Developer - NetSuite ERP (to Cyprus)', 'min': None, 'max': None, 'val': None, 'source': 'hh.ru'}, {'link': 'https://spb.hh.ru/vacancy/69239561?query=data%20analyst', 'title': 'Python developer', 'min': None, 'max': None, 'val': None, 'source': 'hh.ru'}, {'link': 'https://spb.hh.ru/vacancy/67292350?query=data%20analyst', 'title': 'Systems Architect (Platform)', 'min': None, 'max': None, 'val': None, 'source': 'hh.ru'}, {'link': 'https://spb.hh.ru/vacancy/69221400?query=data%20analyst', 'title': 'Financial analyst', 'min': None, 'max': None, 'val': None, 'source': 'hh.ru'}, {'link': 'https://spb.hh.ru/vacancy/67788644?query=data%20analyst', 'title': 'Product-менеджер на развитие LMS платформы (сфера образования)', 'min': None, 'max': None, 'val': None, 'source': 'hh.ru'}, {'link': 'https://spb.hh.ru/vacancy/69215965?query=data%20analyst', 'title': 'Web-аналитик', 'min': None, 'max': None, 'val': None, 'source': 'hh.ru'}, {'link': 'https://spb.hh.ru/vacancy/67380923?query=data%20analyst', 'title': 'Senior Data Scientist/ML Engineer', 'min': None, 'max': None, 'val': None, 'source': 'hh.ru'}, {'link': 'https://spb.hh.ru/vacancy/68296355?query=data%20analyst', 'title': 'Lead Product Analyst/Team Lead', 'min': None, 'max': None, 'val': None, 'source': 'hh.ru'}, {'link': 'https://spb.hh.ru/vacancy/68352725?query=data%20analyst', 'title': 'Инженер по машинному обучению (Продуктовая безопасность)', 'min': None, 'max': None, 'val': None, 'source': 'hh.ru'}, {'link': 'https://spb.hh.ru/vacancy/69224372?query=data%20analyst', 'title': 'Ассистент отдела маркетинга', 'min': 35000, 'max': None, 'val': 'RU', 'source': 'hh.ru'}, {'link': 'https://spb.hh.ru/vacancy/68392947?query=data%20analyst', 'title': 'Security Operations Center Engineer', 'min': 4500, 'max': None, 'val': 'EUR', 'source': 'hh.ru'}, {'link': 'https://spb.hh.ru/vacancy/68212169?query=data%20analyst', 'title': 'Аналитик данных', 'min': None, 'max': None, 'val': None, 'source': 'hh.ru'}, {'link': 'https://spb.hh.ru/vacancy/68694809?query=data%20analyst', 'title': 'Ведущий веб-аналитик/Senior web analyst', 'min': None, 'max': None, 'val': None, 'source': 'hh.ru'}, {'link': 'https://spb.hh.ru/vacancy/68088888?query=data%20analyst', 'title': 'Web-аналитик', 'min': None, 'max': None, 'val': None, 'source': 'hh.ru'}, {'link': 'https://spb.hh.ru/vacancy/69177863?query=data%20analyst', 'title': 'Machine Learning Engineer в команду Суперприложения', 'min': None, 'max': None, 'val': None, 'source': 'hh.ru'}, {'link': 'https://spb.hh.ru/vacancy/66183077?query=data%20analyst', 'title': 'Менеджер по продажам ИТ продуктов', 'min': None, 'max': None, 'val': None, 'source': 'hh.ru'}, {'link': 'https://spb.hh.ru/vacancy/69168184?query=data%20analyst', 'title': 'Senior Data Engineer (Greenplum Developer)', 'min': None, 'max': None, 'val': None, 'source': 'hh.ru'}, {'link': 'https://spb.hh.ru/vacancy/69189792?query=data%20analyst', 'title': 'Менеджер по поисковой рекламе', 'min': 75000, 'max': 300000, 'val': 'RU', 'source': 'hh.ru'}, {'link': 'https://spb.hh.ru/vacancy/68691815?query=data%20analyst', 'title': 'Инженер по тестированию', 'min': None, 'max': None, 'val': None, 'source': 'hh.ru'}, {'link': 'https://spb.hh.ru/vacancy/69134656?query=data%20analyst', 'title': 'Data-инженер', 'min': None, 'max': None, 'val': None, 'source': 'hh.ru'}, {'link': 'https://spb.hh.ru/vacancy/69182265?query=data%20analyst', 'title': 'Copywriter/Editor', 'min': None, 'max': None, 'val': None, 'source': 'hh.ru'}, {'link': 'https://spb.hh.ru/vacancy/69144487?query=data%20analyst', 'title': 'Системный аналитик в Эквайринг', 'min': None, 'max': None, 'val': None, 'source': 'hh.ru'}, {'link': 'https://spb.hh.ru/vacancy/67298009?query=data%20analyst', 'title': 'Head Of Data Analytics', 'min': None, 'max': None, 'val': None, 'source': 'hh.ru'}]\n"
     ]
    }
   ],
   "source": [
    "params = {'page': 0}\n",
    "pages = 3\n",
    "n = 0\n",
    "lstDict_vacancy =[]\n",
    "Keys = ['link','title','min','max','val','source']\n",
    "while params['page'] <= pages:\n",
    "    sleep(3)\n",
    "    response = requests.get(url=url, headers=headers, params = params )\n",
    "    dom = BS(response.text, 'html.parser')\n",
    "\n",
    "    for link in dom.find_all('a', attrs={'data-qa': 'vacancy-serp__vacancy-title'}):\n",
    "        l_in = []\n",
    "        l_in.append(link['href'])\n",
    "        l_in.append(link.text)\n",
    "        salary_str = razbor_str(link.parent.parent.parent.next_sibling.next_sibling.text)\n",
    "        \n",
    "        for i, v in enumerate(salary_str):\n",
    "            l_in.append(salary_str[i])\n",
    "        l_in.append('hh.ru')    \n",
    "        Dict_vacancy = dict(zip(Keys,l_in))\n",
    "        lstDict_vacancy.append(Dict_vacancy)\n",
    "\n",
    "    params['page'] += 1\n",
    "    "
   ]
  },
  {
   "cell_type": "code",
   "execution_count": 131,
   "id": "681d8898",
   "metadata": {},
   "outputs": [],
   "source": [
    "df = pd.DataFrame(lstDict_vacancy)"
   ]
  },
  {
   "cell_type": "code",
   "execution_count": 133,
   "id": "aa8db1b8",
   "metadata": {},
   "outputs": [
    {
     "data": {
      "text/html": [
       "<div>\n",
       "<style scoped>\n",
       "    .dataframe tbody tr th:only-of-type {\n",
       "        vertical-align: middle;\n",
       "    }\n",
       "\n",
       "    .dataframe tbody tr th {\n",
       "        vertical-align: top;\n",
       "    }\n",
       "\n",
       "    .dataframe thead th {\n",
       "        text-align: right;\n",
       "    }\n",
       "</style>\n",
       "<table border=\"1\" class=\"dataframe\">\n",
       "  <thead>\n",
       "    <tr style=\"text-align: right;\">\n",
       "      <th></th>\n",
       "      <th>link</th>\n",
       "      <th>title</th>\n",
       "      <th>min</th>\n",
       "      <th>max</th>\n",
       "      <th>val</th>\n",
       "      <th>source</th>\n",
       "    </tr>\n",
       "  </thead>\n",
       "  <tbody>\n",
       "    <tr>\n",
       "      <th>0</th>\n",
       "      <td>https://spb.hh.ru/vacancy/69487131?query=data%...</td>\n",
       "      <td>Data Analyst</td>\n",
       "      <td>100000.0</td>\n",
       "      <td>150000.0</td>\n",
       "      <td>RU</td>\n",
       "      <td>hh.ru</td>\n",
       "    </tr>\n",
       "    <tr>\n",
       "      <th>1</th>\n",
       "      <td>https://spb.hh.ru/vacancy/54721740?query=data%...</td>\n",
       "      <td>Младший аналитик данных (Junior data analyst)</td>\n",
       "      <td>100000.0</td>\n",
       "      <td>NaN</td>\n",
       "      <td>RU</td>\n",
       "      <td>hh.ru</td>\n",
       "    </tr>\n",
       "    <tr>\n",
       "      <th>2</th>\n",
       "      <td>https://spb.hh.ru/vacancy/69175957?query=data%...</td>\n",
       "      <td>Data Scientist</td>\n",
       "      <td>200000.0</td>\n",
       "      <td>NaN</td>\n",
       "      <td>RU</td>\n",
       "      <td>hh.ru</td>\n",
       "    </tr>\n",
       "    <tr>\n",
       "      <th>3</th>\n",
       "      <td>https://spb.hh.ru/vacancy/69519930?query=data%...</td>\n",
       "      <td>Product Data Analyst</td>\n",
       "      <td>NaN</td>\n",
       "      <td>NaN</td>\n",
       "      <td>None</td>\n",
       "      <td>hh.ru</td>\n",
       "    </tr>\n",
       "    <tr>\n",
       "      <th>4</th>\n",
       "      <td>https://spb.hh.ru/vacancy/69076712?query=data%...</td>\n",
       "      <td>Аналитик BI</td>\n",
       "      <td>100000.0</td>\n",
       "      <td>NaN</td>\n",
       "      <td>RU</td>\n",
       "      <td>hh.ru</td>\n",
       "    </tr>\n",
       "  </tbody>\n",
       "</table>\n",
       "</div>"
      ],
      "text/plain": [
       "                                                link  \\\n",
       "0  https://spb.hh.ru/vacancy/69487131?query=data%...   \n",
       "1  https://spb.hh.ru/vacancy/54721740?query=data%...   \n",
       "2  https://spb.hh.ru/vacancy/69175957?query=data%...   \n",
       "3  https://spb.hh.ru/vacancy/69519930?query=data%...   \n",
       "4  https://spb.hh.ru/vacancy/69076712?query=data%...   \n",
       "\n",
       "                                           title       min       max   val  \\\n",
       "0                                   Data Analyst  100000.0  150000.0    RU   \n",
       "1  Младший аналитик данных (Junior data analyst)  100000.0       NaN    RU   \n",
       "2                                 Data Scientist  200000.0       NaN    RU   \n",
       "3                           Product Data Analyst       NaN       NaN  None   \n",
       "4                                    Аналитик BI  100000.0       NaN    RU   \n",
       "\n",
       "  source  \n",
       "0  hh.ru  \n",
       "1  hh.ru  \n",
       "2  hh.ru  \n",
       "3  hh.ru  \n",
       "4  hh.ru  "
      ]
     },
     "execution_count": 133,
     "metadata": {},
     "output_type": "execute_result"
    }
   ],
   "source": [
    "df.head()"
   ]
  },
  {
   "cell_type": "code",
   "execution_count": 136,
   "id": "e4f627f3",
   "metadata": {},
   "outputs": [],
   "source": [
    "df.to_csv(PREPARED_DATASET_PATH, index=False, encoding='cp1251', sep=';')"
   ]
  }
 ],
 "metadata": {
  "kernelspec": {
   "display_name": "Python 3 (ipykernel)",
   "language": "python",
   "name": "python3"
  },
  "language_info": {
   "codemirror_mode": {
    "name": "ipython",
    "version": 3
   },
   "file_extension": ".py",
   "mimetype": "text/x-python",
   "name": "python",
   "nbconvert_exporter": "python",
   "pygments_lexer": "ipython3",
   "version": "3.9.12"
  }
 },
 "nbformat": 4,
 "nbformat_minor": 5
}
