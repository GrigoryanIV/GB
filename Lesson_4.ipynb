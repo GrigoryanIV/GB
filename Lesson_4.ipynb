{
 "cells": [
  {
   "cell_type": "code",
   "execution_count": 30,
   "id": "9f5fa88a",
   "metadata": {},
   "outputs": [],
   "source": [
    "from pymongo import MongoClient\n",
    "import requests\n",
    "from bs4 import BeautifulSoup as BS\n",
    "from pprint import pprint\n",
    "from lxml import html\n",
    "from time import sleep"
   ]
  },
  {
   "cell_type": "code",
   "execution_count": 31,
   "id": "e6cf47db",
   "metadata": {},
   "outputs": [],
   "source": [
    "url = 'https://hh.ru/vacancies/data-analyst'"
   ]
  },
  {
   "cell_type": "code",
   "execution_count": 32,
   "id": "f14fdc05",
   "metadata": {},
   "outputs": [],
   "source": [
    "headers = {'User-Agent' : 'Mozilla/5.0 (Windows NT 10.0; Win64; x64) AppleWebKit/537.36 (KHTML, like Gecko) Chrome/104.0.0.0 Safari/537.36',}"
   ]
  },
  {
   "cell_type": "code",
   "execution_count": 33,
   "id": "695f633d",
   "metadata": {},
   "outputs": [],
   "source": [
    "def razbor_str (stroka_in):\n",
    "    \n",
    "    if len(stroka_in) == 0:\n",
    "        return [None,None,None]\n",
    "    stroka_in = stroka_in.replace(' ', '')\n",
    "    stroka_in = stroka_in.replace('\\u202f', '')\n",
    "    if 'руб.' in stroka_in:\n",
    "        stroka_out = [None,None,'RU']\n",
    "        stroka_in = stroka_in.replace('руб.', '')\n",
    "    elif 'USD' in stroka_in:\n",
    "        stroka_out = [None,None,'USD']\n",
    "        stroka_in = stroka_in.replace('USD', '')\n",
    "    elif 'EUR' in stroka_in:\n",
    "        stroka_out = [None,None,'EUR']\n",
    "        stroka_in = stroka_in.replace('EUR', '')    \n",
    "    if 'от' in stroka_in:        \n",
    "        stroka_out[0] = int(stroka_in[2:])\n",
    "        stroka_out[1] = None\n",
    "        return stroka_out\n",
    "    elif 'до' in stroka_in:\n",
    "        stroka_out[0] = None\n",
    "        stroka_out[1] = int(stroka_in[2:])\n",
    "        return stroka_out\n",
    "        \n",
    "    stroka_kort = stroka_in.split('–')      \n",
    "    stroka_out[0] = int(stroka_kort[0])\n",
    "    stroka_out[1] = int(stroka_kort[1])\n",
    "    return stroka_out"
   ]
  },
  {
   "cell_type": "code",
   "execution_count": 35,
   "id": "c8ccc4fd",
   "metadata": {},
   "outputs": [],
   "source": [
    "params = {'page': 0}\n",
    "pages = 3\n",
    "n = 0\n",
    "Total_list_Dict_vacancy =[]\n",
    "Keys_Total_list_Dict_vacancy = ['_id','title','min','max','val','source']\n",
    "while params['page'] <= pages:\n",
    "    sleep(3)\n",
    "    response = requests.get(url=url, headers=headers, params = params )\n",
    "    dom = BS(response.text, 'html.parser')\n",
    "\n",
    "    for link in dom.find_all('a', attrs={'data-qa': 'vacancy-serp__vacancy-title'}):\n",
    "        templist = []\n",
    "        templist.append(link['href'])\n",
    "        templist.append(link.text)\n",
    "        salary_str = razbor_str(link.parent.parent.parent.next_sibling.next_sibling.text)\n",
    "        \n",
    "        for i, v in enumerate(salary_str):\n",
    "            templist.append(salary_str[i])\n",
    "        templist.append('hh.ru')    \n",
    "        Stroka_list_Dict_vacancy = dict(zip(Keys_Total_list_Dict_vacancy,templist))\n",
    "        Total_list_Dict_vacancy.append(Stroka_list_Dict_vacancy)\n",
    "\n",
    "    params['page'] += 1\n",
    "    "
   ]
  },
  {
   "cell_type": "code",
   "execution_count": 38,
   "id": "aa8db1b8",
   "metadata": {},
   "outputs": [],
   "source": [
    "#Добавление новых записей в базу Mango DB\n",
    "client_ = MongoClient()\n",
    "db = client.db_vacancy\n",
    "for el in Total_list_Dict_vacancy:\n",
    "    if db.collection_vacancy.find_one({'_id':el['_id']}) == None:\n",
    "        try:\n",
    "            db.collection_vacancy.insert_one(el)\n",
    "        except DublicateKeyError:\n",
    "            print(f'Дублирование id {el[_id]}')"
   ]
  },
  {
   "cell_type": "code",
   "execution_count": 39,
   "id": "c57a8d3d",
   "metadata": {},
   "outputs": [
    {
     "name": "stdout",
     "output_type": "stream",
     "text": [
      "194\n"
     ]
    }
   ],
   "source": [
    "print(len(list(db.collection_vacancy.find())))"
   ]
  },
  {
   "cell_type": "code",
   "execution_count": 42,
   "id": "31ba1321",
   "metadata": {},
   "outputs": [],
   "source": [
    "curs = db.collection_vacancy.find()"
   ]
  },
  {
   "cell_type": "code",
   "execution_count": 43,
   "id": "471a0538",
   "metadata": {},
   "outputs": [
    {
     "name": "stdout",
     "output_type": "stream",
     "text": [
      "{'_id': 'https://spb.hh.ru/vacancy/69603794?query=data%20analyst',\n",
      " 'max': None,\n",
      " 'min': 150000,\n",
      " 'source': 'hh.ru',\n",
      " 'title': 'Product/Data Analyst',\n",
      " 'val': 'RU'}\n"
     ]
    }
   ],
   "source": [
    "doc = curs.next()\n",
    "pprint(doc)"
   ]
  },
  {
   "cell_type": "code",
   "execution_count": 66,
   "id": "2f974216",
   "metadata": {},
   "outputs": [
    {
     "name": "stdout",
     "output_type": "stream",
     "text": [
      "{'_id': 'https://spb.hh.ru/vacancy/69635139?query=data%20analyst',\n",
      " 'max': 4000,\n",
      " 'min': 2000,\n",
      " 'source': 'hh.ru',\n",
      " 'title': 'Product Analyst (remote)',\n",
      " 'val': 'USD'}\n",
      "{'_id': 'https://spb.hh.ru/vacancy/69100086?query=data%20analyst',\n",
      " 'max': 2000,\n",
      " 'min': 1000,\n",
      " 'source': 'hh.ru',\n",
      " 'title': 'Junior Business Intelligence Analyst',\n",
      " 'val': 'USD'}\n",
      "{'_id': 'https://spb.hh.ru/vacancy/68620625?query=data%20analyst',\n",
      " 'max': 4000,\n",
      " 'min': 2000,\n",
      " 'source': 'hh.ru',\n",
      " 'title': 'Product Analyst (remote)',\n",
      " 'val': 'USD'}\n",
      "{'_id': 'https://spb.hh.ru/vacancy/69031296?query=data%20analyst',\n",
      " 'max': 7000,\n",
      " 'min': 3000,\n",
      " 'source': 'hh.ru',\n",
      " 'title': 'NLP Developer, Remote',\n",
      " 'val': 'USD'}\n",
      "{'_id': 'https://spb.hh.ru/vacancy/68736649?query=data%20analyst',\n",
      " 'max': None,\n",
      " 'min': 4000,\n",
      " 'source': 'hh.ru',\n",
      " 'title': 'Go Engineer (Data engineer)',\n",
      " 'val': 'USD'}\n",
      "{'_id': 'https://spb.hh.ru/vacancy/69450070?query=data%20analyst',\n",
      " 'max': 4000,\n",
      " 'min': 2500,\n",
      " 'source': 'hh.ru',\n",
      " 'title': 'Operations Manager Listings',\n",
      " 'val': 'USD'}\n"
     ]
    }
   ],
   "source": [
    "#Поиск зарплаты, удовлетворяющей условиям\n",
    "salary = 1000\n",
    "currency = 'USD'\n",
    "\n",
    "for doc in db.collection_vacancy.find( { '$and': [ { 'min': { '$gte': salary } }, { 'val': currency } ] } ):\n",
    "    pprint(doc)"
   ]
  }
 ],
 "metadata": {
  "kernelspec": {
   "display_name": "Python 3 (ipykernel)",
   "language": "python",
   "name": "python3"
  },
  "language_info": {
   "codemirror_mode": {
    "name": "ipython",
    "version": 3
   },
   "file_extension": ".py",
   "mimetype": "text/x-python",
   "name": "python",
   "nbconvert_exporter": "python",
   "pygments_lexer": "ipython3",
   "version": "3.9.12"
  }
 },
 "nbformat": 4,
 "nbformat_minor": 5
}
