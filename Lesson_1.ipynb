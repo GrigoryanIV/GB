{
 "cells": [
  {
   "cell_type": "code",
   "execution_count": 54,
   "id": "9f5fa88a",
   "metadata": {},
   "outputs": [],
   "source": [
    "import pandas as pd\n",
    "import requests"
   ]
  },
  {
   "cell_type": "code",
   "execution_count": 55,
   "id": "b69fddcc",
   "metadata": {},
   "outputs": [],
   "source": [
    "PREPARED_DATASET_PATH = './shaslyk.csv'"
   ]
  },
  {
   "cell_type": "code",
   "execution_count": 56,
   "id": "4d604558",
   "metadata": {},
   "outputs": [],
   "source": [
    "url = 'https://api.delivery-club.ru/api1.2/vendors/search'"
   ]
  },
  {
   "cell_type": "code",
   "execution_count": 57,
   "id": "60e189cc",
   "metadata": {},
   "outputs": [],
   "source": [
    "params = {'latitude': '55.7577374', 'longitude': '37.6164793', 'query': 'шашлыки',}"
   ]
  },
  {
   "cell_type": "code",
   "execution_count": 58,
   "id": "b0a2eb16",
   "metadata": {},
   "outputs": [
    {
     "name": "stdout",
     "output_type": "stream",
     "text": [
      "200\n"
     ]
    }
   ],
   "source": [
    "response = requests.get(url=url, params=params)\n",
    "print(response.status_code)"
   ]
  },
  {
   "cell_type": "code",
   "execution_count": 59,
   "id": "f46ce653",
   "metadata": {},
   "outputs": [],
   "source": [
    "vendors=response.json()['vendors']"
   ]
  },
  {
   "cell_type": "code",
   "execution_count": 60,
   "id": "38aef255",
   "metadata": {},
   "outputs": [],
   "source": [
    "df = pd.json_normalize(vendors)"
   ]
  },
  {
   "cell_type": "code",
   "execution_count": 61,
   "id": "b8f9f304",
   "metadata": {},
   "outputs": [
    {
     "data": {
      "text/plain": [
       "Index(['alias', 'allowPreorder', 'categoryId', 'cuisines', 'labels', 'logo',\n",
       "       'name', 'openDays', 'openFrom', 'openTo', 'payments', 'products',\n",
       "       'chain.alias', 'chain.id.primary', 'cover.1200', 'cover.1600',\n",
       "       'cover.2048', 'cover.480', 'cover.720', 'delivery.available',\n",
       "       'delivery.minOrderPrice.value', 'delivery.price.value',\n",
       "       'delivery.services', 'delivery.time', 'id.primary',\n",
       "       'reviews.ratingScore', 'reviews.reviewCount', 'reviews.score',\n",
       "       'reviews.scoreCount'],\n",
       "      dtype='object')"
      ]
     },
     "execution_count": 61,
     "metadata": {},
     "output_type": "execute_result"
    }
   ],
   "source": [
    "df.columns"
   ]
  },
  {
   "cell_type": "code",
   "execution_count": 62,
   "id": "47867954",
   "metadata": {},
   "outputs": [],
   "source": [
    "df.drop(columns=['alias', 'logo', 'openDays', 'openFrom', 'openTo', 'chain.alias', 'chain.id.primary'], inplace=True)\n",
    "df.drop(columns=['products', 'cover.1200', 'cover.1600', 'cover.2048', 'cover.480', 'cover.720', 'id.primary'], inplace=True)\n",
    "df.drop(columns=['reviews.ratingScore', 'reviews.reviewCount', 'reviews.score', 'reviews.scoreCount'], inplace=True)"
   ]
  },
  {
   "cell_type": "code",
   "execution_count": 63,
   "id": "760423b2",
   "metadata": {},
   "outputs": [
    {
     "name": "stdout",
     "output_type": "stream",
     "text": [
      "0 allowPreorder                                                               False\n",
      "categoryId                                                                      1\n",
      "cuisines                                      [Русская, Итальянская, Суши, Пицца]\n",
      "labels                          [is_fixed_time_delivery, online_payment, by_po...\n",
      "name                                                                        Му-Му\n",
      "payments                        [{'type': 'card_online'}, {'type': 'samsungpay...\n",
      "delivery.available                                                           True\n",
      "delivery.minOrderPrice.value                                                    1\n",
      "delivery.price.value                                                           99\n",
      "delivery.services                                            [delivery, takeaway]\n",
      "delivery.time                                                           25-35 мин\n",
      "Name: 0, dtype: object\n",
      "1 allowPreorder                                                               False\n",
      "categoryId                                                                      1\n",
      "cuisines                             [Грузинская, Великий пост, Хинкали, Шашлыки]\n",
      "labels                          [is_fixed_time_delivery, online_payment, high_...\n",
      "name                                                                    Джонджоли\n",
      "payments                        [{'type': 'card_online'}, {'type': 'samsungpay...\n",
      "delivery.available                                                           True\n",
      "delivery.minOrderPrice.value                                                    1\n",
      "delivery.price.value                                                          129\n",
      "delivery.services                                                      [delivery]\n",
      "delivery.time                                                           25-35 мин\n",
      "Name: 1, dtype: object\n",
      "2 allowPreorder                                                               False\n",
      "categoryId                                                                      1\n",
      "cuisines                                                     [Узбекская, Шашлыки]\n",
      "labels                                   [is_fixed_time_delivery, online_payment]\n",
      "name                                                                 Чайхона АЙВА\n",
      "payments                        [{'type': 'card_online'}, {'type': 'samsungpay...\n",
      "delivery.available                                                           True\n",
      "delivery.minOrderPrice.value                                                    1\n",
      "delivery.price.value                                                           99\n",
      "delivery.services                                            [delivery, takeaway]\n",
      "delivery.time                                                           45-55 мин\n",
      "Name: 2, dtype: object\n"
     ]
    }
   ],
   "source": [
    "for idx,row in df[:3].iterrows():\n",
    "    print(idx, row)"
   ]
  },
  {
   "cell_type": "code",
   "execution_count": 64,
   "id": "26efc517",
   "metadata": {},
   "outputs": [
    {
     "name": "stdout",
     "output_type": "stream",
     "text": [
      "Из всех точек только 36.0 % доставляют шашлык бесплатно\n"
     ]
    }
   ],
   "source": [
    "cash_free = round(df[df['delivery.price.value'] == 0].shape[0]/df.shape[0] * 100,0)\n",
    "print(f\"Из всех точек только {cash_free} % доставляют шашлык бесплатно\")"
   ]
  },
  {
   "cell_type": "code",
   "execution_count": 65,
   "id": "687859a0",
   "metadata": {},
   "outputs": [
    {
     "name": "stdout",
     "output_type": "stream",
     "text": [
      "Средняя сумма заказа для бесплатной доставки 1411.32 рублей\n"
     ]
    }
   ],
   "source": [
    "z_mean = round(df[df['delivery.price.value'] == 0]['delivery.minOrderPrice.value'].mean(), 2)\n",
    "print(f\"Средняя сумма заказа для бесплатной доставки {z_mean} рублей\")"
   ]
  },
  {
   "cell_type": "code",
   "execution_count": 66,
   "id": "a2de6dcc",
   "metadata": {},
   "outputs": [],
   "source": [
    "df.to_csv(PREPARED_DATASET_PATH, index=False, encoding='cp1251', sep=';')"
   ]
  }
 ],
 "metadata": {
  "kernelspec": {
   "display_name": "Python 3 (ipykernel)",
   "language": "python",
   "name": "python3"
  },
  "language_info": {
   "codemirror_mode": {
    "name": "ipython",
    "version": 3
   },
   "file_extension": ".py",
   "mimetype": "text/x-python",
   "name": "python",
   "nbconvert_exporter": "python",
   "pygments_lexer": "ipython3",
   "version": "3.9.12"
  }
 },
 "nbformat": 4,
 "nbformat_minor": 5
}
